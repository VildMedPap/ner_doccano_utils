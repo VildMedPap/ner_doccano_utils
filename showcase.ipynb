{
 "cells": [
  {
   "cell_type": "code",
   "execution_count": 1,
   "metadata": {},
   "outputs": [
    {
     "name": "stderr",
     "output_type": "stream",
     "text": [
      "To use data.metrics please install scikit-learn. See https://scikit-learn.org/stable/index.html\n",
      "Neither PyTorch nor TensorFlow >= 2.0 have been found.Models won't be available and only tokenizers, configurationand file/data utilities can be used.\n"
     ]
    }
   ],
   "source": [
    "from ner_doccano_utils import load_json_lines, extract_entities, Tokenizers, tokenize, distribute_labels, iob, doccano_to_iob_tokens"
   ]
  },
  {
   "cell_type": "markdown",
   "metadata": {},
   "source": [
    "## `load_json_lines()`"
   ]
  },
  {
   "cell_type": "code",
   "execution_count": 2,
   "metadata": {},
   "outputs": [],
   "source": [
    "doccano_data = load_json_lines('examples/danish.json')"
   ]
  },
  {
   "cell_type": "code",
   "execution_count": 3,
   "metadata": {},
   "outputs": [
    {
     "data": {
      "text/plain": [
       "3"
      ]
     },
     "execution_count": 3,
     "metadata": {},
     "output_type": "execute_result"
    }
   ],
   "source": [
    "len(doccano_data)"
   ]
  },
  {
   "cell_type": "code",
   "execution_count": 4,
   "metadata": {},
   "outputs": [
    {
     "data": {
      "text/plain": [
       "list"
      ]
     },
     "execution_count": 4,
     "metadata": {},
     "output_type": "execute_result"
    }
   ],
   "source": [
    "type(doccano_data)"
   ]
  },
  {
   "cell_type": "code",
   "execution_count": 5,
   "metadata": {},
   "outputs": [
    {
     "data": {
      "text/plain": [
       "{'text': 'Der er ikke fejet noget ind under gulvtæppet, sagde Statsminister Poul Schlüter fra Folketingets talerstol 25. april 1989.',\n",
       " 'labels': [[52, 65, 'title'],\n",
       "  [66, 79, 'name'],\n",
       "  [84, 95, 'org'],\n",
       "  [107, 121, 'date']]}"
      ]
     },
     "execution_count": 5,
     "metadata": {},
     "output_type": "execute_result"
    }
   ],
   "source": [
    "doccano_data[1]"
   ]
  },
  {
   "cell_type": "markdown",
   "metadata": {},
   "source": [
    "## `extract_entities()`"
   ]
  },
  {
   "cell_type": "code",
   "execution_count": 6,
   "metadata": {},
   "outputs": [
    {
     "data": {
      "text/plain": [
       "{'title': ['Statsminister'],\n",
       " 'org': ['Folketinget'],\n",
       " 'date': ['25. april 1989'],\n",
       " 'name': ['Poul Schlüter']}"
      ]
     },
     "execution_count": 6,
     "metadata": {},
     "output_type": "execute_result"
    }
   ],
   "source": [
    "extract_entities(doccano_data[1])"
   ]
  },
  {
   "cell_type": "code",
   "execution_count": 7,
   "metadata": {},
   "outputs": [
    {
     "data": {
      "text/plain": [
       "{'title': [(52, 65, 'Statsminister')],\n",
       " 'org': [(84, 95, 'Folketinget')],\n",
       " 'date': [(107, 121, '25. april 1989')],\n",
       " 'name': [(66, 79, 'Poul Schlüter')]}"
      ]
     },
     "execution_count": 7,
     "metadata": {},
     "output_type": "execute_result"
    }
   ],
   "source": [
    "extract_entities(doccano_data[1], include_indices=True)"
   ]
  },
  {
   "cell_type": "markdown",
   "metadata": {},
   "source": [
    "## `Tokenizers()`"
   ]
  },
  {
   "cell_type": "code",
   "execution_count": 8,
   "metadata": {},
   "outputs": [],
   "source": [
    "models = Tokenizers(spacy_lang_class='da', bert_model='bert-base-multilingual-cased')"
   ]
  },
  {
   "cell_type": "markdown",
   "metadata": {},
   "source": [
    "## `tokenize()`"
   ]
  },
  {
   "cell_type": "code",
   "execution_count": 9,
   "metadata": {},
   "outputs": [
    {
     "data": {
      "text/plain": [
       "[(0, 3, 'Der'),\n",
       " (4, 6, 'er'),\n",
       " (7, 11, 'ikke'),\n",
       " (12, 14, 'fe'),\n",
       " (14, 17, '##jet'),\n",
       " (18, 23, 'noget'),\n",
       " (24, 27, 'ind'),\n",
       " (28, 33, 'under'),\n",
       " (34, 37, 'gul'),\n",
       " (37, 39, '##vt'),\n",
       " (39, 40, '##æ'),\n",
       " (40, 44, '##ppet'),\n",
       " (44, 45, ','),\n",
       " (46, 48, 'sa'),\n",
       " (48, 51, '##gde'),\n",
       " (52, 56, 'Stat'),\n",
       " (56, 65, '##sminister'),\n",
       " (66, 70, 'Poul'),\n",
       " (71, 73, 'Sc'),\n",
       " (73, 75, '##hl'),\n",
       " (75, 79, '##üter'),\n",
       " (80, 83, 'fra'),\n",
       " (84, 88, 'Folk'),\n",
       " (88, 92, '##etin'),\n",
       " (92, 95, '##get'),\n",
       " (95, 96, '##s'),\n",
       " (97, 101, 'tale'),\n",
       " (101, 104, '##rst'),\n",
       " (104, 106, '##ol'),\n",
       " (107, 109, '25'),\n",
       " (109, 110, '.'),\n",
       " (111, 116, 'april'),\n",
       " (117, 121, '1989'),\n",
       " (121, 122, '.')]"
      ]
     },
     "execution_count": 9,
     "metadata": {},
     "output_type": "execute_result"
    }
   ],
   "source": [
    "tokens = tokenize(\n",
    "    doccano_document=doccano_data[1],\n",
    "    tokenizers=models\n",
    ")\n",
    "tokens"
   ]
  },
  {
   "cell_type": "markdown",
   "metadata": {},
   "source": [
    "## `distribute_labels()`"
   ]
  },
  {
   "cell_type": "code",
   "execution_count": 10,
   "metadata": {},
   "outputs": [
    {
     "data": {
      "text/plain": [
       "['',\n",
       " '',\n",
       " '',\n",
       " '',\n",
       " '',\n",
       " '',\n",
       " '',\n",
       " '',\n",
       " '',\n",
       " '',\n",
       " '',\n",
       " '',\n",
       " '',\n",
       " '',\n",
       " '',\n",
       " 'title',\n",
       " 'title',\n",
       " 'name',\n",
       " 'name',\n",
       " 'name',\n",
       " 'name',\n",
       " '',\n",
       " 'org',\n",
       " 'org',\n",
       " 'org',\n",
       " '',\n",
       " '',\n",
       " '',\n",
       " '',\n",
       " 'date',\n",
       " 'date',\n",
       " 'date',\n",
       " 'date',\n",
       " '']"
      ]
     },
     "execution_count": 10,
     "metadata": {},
     "output_type": "execute_result"
    }
   ],
   "source": [
    "labels = distribute_labels(doccano_data[1], tokens)\n",
    "labels"
   ]
  },
  {
   "cell_type": "markdown",
   "metadata": {},
   "source": [
    "## `iob()`"
   ]
  },
  {
   "cell_type": "code",
   "execution_count": 11,
   "metadata": {},
   "outputs": [
    {
     "data": {
      "text/plain": [
       "['O',\n",
       " 'O',\n",
       " 'O',\n",
       " 'O',\n",
       " 'O',\n",
       " 'O',\n",
       " 'O',\n",
       " 'O',\n",
       " 'O',\n",
       " 'O',\n",
       " 'O',\n",
       " 'O',\n",
       " 'O',\n",
       " 'O',\n",
       " 'O',\n",
       " 'B-TITLE',\n",
       " 'I-TITLE',\n",
       " 'B-NAME',\n",
       " 'I-NAME',\n",
       " 'I-NAME',\n",
       " 'I-NAME',\n",
       " 'O',\n",
       " 'B-ORG',\n",
       " 'I-ORG',\n",
       " 'I-ORG',\n",
       " 'O',\n",
       " 'O',\n",
       " 'O',\n",
       " 'O',\n",
       " 'B-DATE',\n",
       " 'I-DATE',\n",
       " 'I-DATE',\n",
       " 'I-DATE',\n",
       " 'O']"
      ]
     },
     "execution_count": 11,
     "metadata": {},
     "output_type": "execute_result"
    }
   ],
   "source": [
    "iob(labels)"
   ]
  },
  {
   "cell_type": "markdown",
   "metadata": {},
   "source": [
    "## `doccano_to_iob_tokens()`"
   ]
  },
  {
   "cell_type": "code",
   "execution_count": 12,
   "metadata": {},
   "outputs": [
    {
     "data": {
      "text/plain": [
       "[('Der', 'O'),\n",
       " ('er', 'O'),\n",
       " ('ikke', 'O'),\n",
       " ('fe', 'O'),\n",
       " ('##jet', 'O'),\n",
       " ('noget', 'O'),\n",
       " ('ind', 'O'),\n",
       " ('under', 'O'),\n",
       " ('gul', 'O'),\n",
       " ('##vt', 'O'),\n",
       " ('##æ', 'O'),\n",
       " ('##ppet', 'O'),\n",
       " (',', 'O'),\n",
       " ('sa', 'O'),\n",
       " ('##gde', 'O'),\n",
       " ('Stat', 'B-TITLE'),\n",
       " ('##sminister', 'I-TITLE'),\n",
       " ('Poul', 'B-NAME'),\n",
       " ('Sc', 'I-NAME'),\n",
       " ('##hl', 'I-NAME'),\n",
       " ('##üter', 'I-NAME'),\n",
       " ('fra', 'O'),\n",
       " ('Folk', 'B-ORG'),\n",
       " ('##etin', 'I-ORG'),\n",
       " ('##get', 'I-ORG'),\n",
       " ('##s', 'O'),\n",
       " ('tale', 'O'),\n",
       " ('##rst', 'O'),\n",
       " ('##ol', 'O'),\n",
       " ('25', 'B-DATE'),\n",
       " ('.', 'I-DATE'),\n",
       " ('april', 'I-DATE'),\n",
       " ('1989', 'I-DATE'),\n",
       " ('.', 'O')]"
      ]
     },
     "execution_count": 12,
     "metadata": {},
     "output_type": "execute_result"
    }
   ],
   "source": [
    "doccano_to_iob_tokens(\n",
    "    doccano_document=doccano_data[1],\n",
    "    tokenizers=models\n",
    ")"
   ]
  }
 ],
 "metadata": {
  "kernelspec": {
   "display_name": "ner_doccano_utils",
   "language": "python",
   "name": "ner_doccano_utils"
  },
  "language_info": {
   "codemirror_mode": {
    "name": "ipython",
    "version": 3
   },
   "file_extension": ".py",
   "mimetype": "text/x-python",
   "name": "python",
   "nbconvert_exporter": "python",
   "pygments_lexer": "ipython3",
   "version": "3.8.3"
  }
 },
 "nbformat": 4,
 "nbformat_minor": 4
}
