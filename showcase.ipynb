{
 "cells": [
  {
   "cell_type": "code",
   "execution_count": 1,
   "metadata": {},
   "outputs": [
    {
     "name": "stderr",
     "output_type": "stream",
     "text": [
      "To use data.metrics please install scikit-learn. See https://scikit-learn.org/stable/index.html\n",
      "Neither PyTorch nor TensorFlow >= 2.0 have been found.Models won't be available and only tokenizers, configurationand file/data utilities can be used.\n"
     ]
    }
   ],
   "source": [
    "%load_ext autoreload\n",
    "%autoreload 2\n",
    "from ner_doccano_utils import (\n",
    "    load_json_lines, extract_entities, Tokenizers, tokenize,\n",
    "    distribute_labels, iob, doccano_to_iob_tokens, display_annotations,\n",
    "    split_doc_into_sentences\n",
    ")"
   ]
  },
  {
   "cell_type": "markdown",
   "metadata": {},
   "source": [
    "## `load_json_lines()`"
   ]
  },
  {
   "cell_type": "code",
   "execution_count": 2,
   "metadata": {},
   "outputs": [],
   "source": [
    "doccano_data = load_json_lines('examples/danish.json')"
   ]
  },
  {
   "cell_type": "code",
   "execution_count": 3,
   "metadata": {},
   "outputs": [
    {
     "data": {
      "text/plain": [
       "4"
      ]
     },
     "execution_count": 3,
     "metadata": {},
     "output_type": "execute_result"
    }
   ],
   "source": [
    "len(doccano_data)"
   ]
  },
  {
   "cell_type": "code",
   "execution_count": 4,
   "metadata": {},
   "outputs": [
    {
     "data": {
      "text/plain": [
       "list"
      ]
     },
     "execution_count": 4,
     "metadata": {},
     "output_type": "execute_result"
    }
   ],
   "source": [
    "type(doccano_data)"
   ]
  },
  {
   "cell_type": "code",
   "execution_count": 5,
   "metadata": {},
   "outputs": [
    {
     "data": {
      "text/plain": [
       "{'text': 'Der er ikke fejet noget ind under gulvtæppet, sagde Statsminister Poul Schlüter fra Folketingets talerstol 25. april 1989.',\n",
       " 'labels': [[52, 65, 'title'],\n",
       "  [66, 79, 'name'],\n",
       "  [84, 95, 'org'],\n",
       "  [107, 121, 'date']]}"
      ]
     },
     "execution_count": 5,
     "metadata": {},
     "output_type": "execute_result"
    }
   ],
   "source": [
    "doccano_data[1]"
   ]
  },
  {
   "cell_type": "markdown",
   "metadata": {},
   "source": [
    "## `extract_entities()`"
   ]
  },
  {
   "cell_type": "code",
   "execution_count": 6,
   "metadata": {},
   "outputs": [
    {
     "data": {
      "text/plain": [
       "{'title': ['Statsminister'],\n",
       " 'org': ['Folketinget'],\n",
       " 'name': ['Poul Schlüter'],\n",
       " 'date': ['25. april 1989']}"
      ]
     },
     "execution_count": 6,
     "metadata": {},
     "output_type": "execute_result"
    }
   ],
   "source": [
    "extract_entities(doccano_data[1])"
   ]
  },
  {
   "cell_type": "code",
   "execution_count": 7,
   "metadata": {},
   "outputs": [
    {
     "data": {
      "text/plain": [
       "{'title': [(52, 65, 'Statsminister')],\n",
       " 'org': [(84, 95, 'Folketinget')],\n",
       " 'name': [(66, 79, 'Poul Schlüter')],\n",
       " 'date': [(107, 121, '25. april 1989')]}"
      ]
     },
     "execution_count": 7,
     "metadata": {},
     "output_type": "execute_result"
    }
   ],
   "source": [
    "extract_entities(doccano_data[1], include_indices=True)"
   ]
  },
  {
   "cell_type": "markdown",
   "metadata": {},
   "source": [
    "## `Tokenizers()`"
   ]
  },
  {
   "cell_type": "code",
   "execution_count": 8,
   "metadata": {},
   "outputs": [],
   "source": [
    "models = Tokenizers(spacy_lang_class='da', bert_model='bert-base-multilingual-cased')"
   ]
  },
  {
   "cell_type": "markdown",
   "metadata": {},
   "source": [
    "## `tokenize()`"
   ]
  },
  {
   "cell_type": "code",
   "execution_count": 9,
   "metadata": {},
   "outputs": [
    {
     "data": {
      "text/plain": [
       "[(0, 3, 'Der'),\n",
       " (4, 6, 'er'),\n",
       " (7, 11, 'ikke'),\n",
       " (12, 14, 'fe'),\n",
       " (14, 17, '##jet'),\n",
       " (18, 23, 'noget'),\n",
       " (24, 27, 'ind'),\n",
       " (28, 33, 'under'),\n",
       " (34, 37, 'gul'),\n",
       " (37, 39, '##vt'),\n",
       " (39, 40, '##æ'),\n",
       " (40, 44, '##ppet'),\n",
       " (44, 45, ','),\n",
       " (46, 48, 'sa'),\n",
       " (48, 51, '##gde'),\n",
       " (52, 56, 'Stat'),\n",
       " (56, 65, '##sminister'),\n",
       " (66, 70, 'Poul'),\n",
       " (71, 73, 'Sc'),\n",
       " (73, 75, '##hl'),\n",
       " (75, 79, '##üter'),\n",
       " (80, 83, 'fra'),\n",
       " (84, 88, 'Folk'),\n",
       " (88, 92, '##etin'),\n",
       " (92, 95, '##get'),\n",
       " (95, 96, '##s'),\n",
       " (97, 101, 'tale'),\n",
       " (101, 104, '##rst'),\n",
       " (104, 106, '##ol'),\n",
       " (107, 109, '25'),\n",
       " (109, 110, '.'),\n",
       " (111, 116, 'april'),\n",
       " (117, 121, '1989'),\n",
       " (121, 122, '.')]"
      ]
     },
     "execution_count": 9,
     "metadata": {},
     "output_type": "execute_result"
    }
   ],
   "source": [
    "tokens = tokenize(\n",
    "    doccano_document=doccano_data[1],\n",
    "    tokenizers=models\n",
    ")\n",
    "tokens"
   ]
  },
  {
   "cell_type": "markdown",
   "metadata": {},
   "source": [
    "## `distribute_labels()`"
   ]
  },
  {
   "cell_type": "code",
   "execution_count": 10,
   "metadata": {},
   "outputs": [
    {
     "data": {
      "text/plain": [
       "['',\n",
       " '',\n",
       " '',\n",
       " '',\n",
       " '',\n",
       " '',\n",
       " '',\n",
       " '',\n",
       " '',\n",
       " '',\n",
       " '',\n",
       " '',\n",
       " '',\n",
       " '',\n",
       " '',\n",
       " 'title',\n",
       " 'title',\n",
       " 'name',\n",
       " 'name',\n",
       " 'name',\n",
       " 'name',\n",
       " '',\n",
       " 'org',\n",
       " 'org',\n",
       " 'org',\n",
       " '',\n",
       " '',\n",
       " '',\n",
       " '',\n",
       " 'date',\n",
       " 'date',\n",
       " 'date',\n",
       " 'date',\n",
       " '']"
      ]
     },
     "execution_count": 10,
     "metadata": {},
     "output_type": "execute_result"
    }
   ],
   "source": [
    "labels = distribute_labels(doccano_data[1], tokens)\n",
    "labels"
   ]
  },
  {
   "cell_type": "markdown",
   "metadata": {},
   "source": [
    "## `iob()`"
   ]
  },
  {
   "cell_type": "code",
   "execution_count": 11,
   "metadata": {},
   "outputs": [
    {
     "data": {
      "text/plain": [
       "['O',\n",
       " 'O',\n",
       " 'O',\n",
       " 'O',\n",
       " 'O',\n",
       " 'O',\n",
       " 'O',\n",
       " 'O',\n",
       " 'O',\n",
       " 'O',\n",
       " 'O',\n",
       " 'O',\n",
       " 'O',\n",
       " 'O',\n",
       " 'O',\n",
       " 'B-TITLE',\n",
       " 'I-TITLE',\n",
       " 'B-NAME',\n",
       " 'I-NAME',\n",
       " 'I-NAME',\n",
       " 'I-NAME',\n",
       " 'O',\n",
       " 'B-ORG',\n",
       " 'I-ORG',\n",
       " 'I-ORG',\n",
       " 'O',\n",
       " 'O',\n",
       " 'O',\n",
       " 'O',\n",
       " 'B-DATE',\n",
       " 'I-DATE',\n",
       " 'I-DATE',\n",
       " 'I-DATE',\n",
       " 'O']"
      ]
     },
     "execution_count": 11,
     "metadata": {},
     "output_type": "execute_result"
    }
   ],
   "source": [
    "iob(labels)"
   ]
  },
  {
   "cell_type": "markdown",
   "metadata": {},
   "source": [
    "## `doccano_to_iob_tokens()`"
   ]
  },
  {
   "cell_type": "code",
   "execution_count": 12,
   "metadata": {},
   "outputs": [
    {
     "data": {
      "text/plain": [
       "[('Der', 'O'),\n",
       " ('er', 'O'),\n",
       " ('ikke', 'O'),\n",
       " ('fe', 'O'),\n",
       " ('##jet', 'O'),\n",
       " ('noget', 'O'),\n",
       " ('ind', 'O'),\n",
       " ('under', 'O'),\n",
       " ('gul', 'O'),\n",
       " ('##vt', 'O'),\n",
       " ('##æ', 'O'),\n",
       " ('##ppet', 'O'),\n",
       " (',', 'O'),\n",
       " ('sa', 'O'),\n",
       " ('##gde', 'O'),\n",
       " ('Stat', 'B-TITLE'),\n",
       " ('##sminister', 'I-TITLE'),\n",
       " ('Poul', 'B-NAME'),\n",
       " ('Sc', 'I-NAME'),\n",
       " ('##hl', 'I-NAME'),\n",
       " ('##üter', 'I-NAME'),\n",
       " ('fra', 'O'),\n",
       " ('Folk', 'B-ORG'),\n",
       " ('##etin', 'I-ORG'),\n",
       " ('##get', 'I-ORG'),\n",
       " ('##s', 'O'),\n",
       " ('tale', 'O'),\n",
       " ('##rst', 'O'),\n",
       " ('##ol', 'O'),\n",
       " ('25', 'B-DATE'),\n",
       " ('.', 'I-DATE'),\n",
       " ('april', 'I-DATE'),\n",
       " ('1989', 'I-DATE'),\n",
       " ('.', 'O')]"
      ]
     },
     "execution_count": 12,
     "metadata": {},
     "output_type": "execute_result"
    }
   ],
   "source": [
    "doccano_to_iob_tokens(\n",
    "    doccano_document=doccano_data[1],\n",
    "    tokenizers=models\n",
    ")"
   ]
  },
  {
   "cell_type": "markdown",
   "metadata": {},
   "source": [
    "## `display_annotations()`"
   ]
  },
  {
   "cell_type": "code",
   "execution_count": 13,
   "metadata": {},
   "outputs": [
    {
     "data": {
      "text/html": [
       "<div style=\"line-height:3;font-family:Verdana;font-size:13px\"><b>LEGEND</b>:&nbsp;&nbsp;&nbsp;&nbsp;<span style=\"border: 1px solid rgb(31, 119, 180);background-color: rgba(31, 119, 180, 0.1)\">&nbsp;name&nbsp;</span></div>"
      ],
      "text/plain": [
       "<IPython.core.display.HTML object>"
      ]
     },
     "metadata": {},
     "output_type": "display_data"
    },
    {
     "data": {
      "text/html": [
       "<div style=\"line-height: 2;font-family: Verdana; font-size: 15px; border: 1px solid grey; box-shadow: 0 0 5px rgba(0, 0, 0, 0.3), inset 0 0 50px rgba(0, 0, 0, 0.025); padding: 10px\">Og så skyder han. Nej, han venter. Jaaaa, <span style=\"border: 1px solid rgb(31, 119, 180);background-color: rgba(31, 119, 180, 0.1)\">Michael Laudrup</span>. Det er genialt, dét der!</div>"
      ],
      "text/plain": [
       "<IPython.core.display.HTML object>"
      ]
     },
     "metadata": {},
     "output_type": "display_data"
    }
   ],
   "source": [
    "display_annotations(doccano_data[0], )"
   ]
  },
  {
   "cell_type": "code",
   "execution_count": 14,
   "metadata": {},
   "outputs": [
    {
     "data": {
      "text/html": [
       "<div style=\"line-height:3;font-family:Verdana;font-size:13px\"><b>LEGEND</b>:&nbsp;&nbsp;&nbsp;&nbsp;<span style=\"border: 1px solid rgb(31, 119, 180);background-color: rgba(31, 119, 180, 0.1)\">&nbsp;title&nbsp;</span>&nbsp;&nbsp;&nbsp;&nbsp;<span style=\"border: 1px solid rgb(255, 127, 14);background-color: rgba(255, 127, 14, 0.1)\">&nbsp;org&nbsp;</span>&nbsp;&nbsp;&nbsp;&nbsp;<span style=\"border: 1px solid rgb(44, 160, 44);background-color: rgba(44, 160, 44, 0.1)\">&nbsp;name&nbsp;</span>&nbsp;&nbsp;&nbsp;&nbsp;<span style=\"border: 1px solid rgb(214, 39, 40);background-color: rgba(214, 39, 40, 0.1)\">&nbsp;date&nbsp;</span></div>"
      ],
      "text/plain": [
       "<IPython.core.display.HTML object>"
      ]
     },
     "metadata": {},
     "output_type": "display_data"
    },
    {
     "data": {
      "text/html": [
       "<div style=\"line-height: 2;font-family: Verdana; font-size: 15px; border: 1px solid grey; box-shadow: 0 0 5px rgba(0, 0, 0, 0.3), inset 0 0 50px rgba(0, 0, 0, 0.025); padding: 10px\">Der er ikke fejet noget ind under gulvtæppet, sagde <span style=\"border: 1px solid rgb(31, 119, 180);background-color: rgba(31, 119, 180, 0.1)\">Statsminister</span> <span style=\"border: 1px solid rgb(44, 160, 44);background-color: rgba(44, 160, 44, 0.1)\">Poul Schlüter</span> fra <span style=\"border: 1px solid rgb(255, 127, 14);background-color: rgba(255, 127, 14, 0.1)\">Folketinget</span>s talerstol <span style=\"border: 1px solid rgb(214, 39, 40);background-color: rgba(214, 39, 40, 0.1)\">25. april 1989</span>.</div>"
      ],
      "text/plain": [
       "<IPython.core.display.HTML object>"
      ]
     },
     "metadata": {},
     "output_type": "display_data"
    }
   ],
   "source": [
    "display_annotations(doccano_data[1])"
   ]
  },
  {
   "cell_type": "code",
   "execution_count": 15,
   "metadata": {},
   "outputs": [
    {
     "data": {
      "text/html": [
       "<div style=\"line-height:3;font-family:Verdana;font-size:13px\"><b>LEGEND</b>:&nbsp;&nbsp;&nbsp;&nbsp;<span style=\"border: 1px solid rgb(31, 119, 180);background-color: rgba(31, 119, 180, 0.1)\">&nbsp;city&nbsp;</span></div>"
      ],
      "text/plain": [
       "<IPython.core.display.HTML object>"
      ]
     },
     "metadata": {},
     "output_type": "display_data"
    },
    {
     "data": {
      "text/html": [
       "<div style=\"line-height: 2;font-family: Verdana; font-size: 15px; border: 1px solid grey; box-shadow: 0 0 5px rgba(0, 0, 0, 0.3), inset 0 0 50px rgba(0, 0, 0, 0.025); padding: 10px\">Lige ud af <span style=\"border: 1px solid rgb(31, 119, 180);background-color: rgba(31, 119, 180, 0.1)\">Næstved</span> - ikke af betonen. Det er der, jeg er født og vokset op!</div>"
      ],
      "text/plain": [
       "<IPython.core.display.HTML object>"
      ]
     },
     "metadata": {},
     "output_type": "display_data"
    }
   ],
   "source": [
    "display_annotations(doccano_data[2])"
   ]
  },
  {
   "cell_type": "code",
   "execution_count": 16,
   "metadata": {},
   "outputs": [
    {
     "data": {
      "text/html": [
       "<div style=\"line-height:3;font-family:Verdana;font-size:13px\"><b>LEGEND</b>:&nbsp;&nbsp;&nbsp;&nbsp;<span style=\"border: 1px solid rgb(31, 119, 180);background-color: rgba(31, 119, 180, 0.1)\">&nbsp;year&nbsp;</span>&nbsp;&nbsp;&nbsp;&nbsp;<span style=\"border: 1px solid rgb(255, 127, 14);background-color: rgba(255, 127, 14, 0.1)\">&nbsp;name&nbsp;</span></div>"
      ],
      "text/plain": [
       "<IPython.core.display.HTML object>"
      ]
     },
     "metadata": {},
     "output_type": "display_data"
    },
    {
     "data": {
      "text/html": [
       "<div style=\"line-height: 2;font-family: Verdana; font-size: 15px; border: 1px solid grey; box-shadow: 0 0 5px rgba(0, 0, 0, 0.3), inset 0 0 50px rgba(0, 0, 0, 0.025); padding: 10px\">DEN HÆSLIGE BY.<br/><br/>Skrig er udspændt mellem husene<br/>i den hæslige by<br/>Menneskene er skygger<br/>af fabrikkerne og kontorerne,<br/>En pige løfter sin kjole<br/>og hendes køn er et ur<br/>Fragmenter af endnu fri bevidsthed<br/>hænger som en tåge i luften<br/>kun gennemlyst af neonøjnene<br/>Gennem gaderne flaxer anskudte drømme<br/>med vinger som vimpler af visnende blade<br/>I byens udkant ligger sindssygehospitalet<br/>hvor hvide patienter udvexler diagnoser,<br/>smerte og medicin<br/>I det fjerneste rum<br/>ligger den bedøvede drift<br/>fastspændt til en stinkende våd seng<br/>I dansehallen midt i byen danses Dødedisco<br/>De midlertidige masker udleveres ved indgangen<br/>mod aflevering af visse hjernedele<br/>omfattende minder om barndom, kærlighed<br/>og drift mod stjerner og oprør.<br/><br/>Vi folder drømmens faner ud (<span style=\"border: 1px solid rgb(31, 119, 180);background-color: rgba(31, 119, 180, 0.1)\">1981</span>) - <span style=\"border: 1px solid rgb(255, 127, 14);background-color: rgba(255, 127, 14, 0.1)\">Michael Strunge</span></div>"
      ],
      "text/plain": [
       "<IPython.core.display.HTML object>"
      ]
     },
     "metadata": {},
     "output_type": "display_data"
    }
   ],
   "source": [
    "display_annotations(doccano_data[3])"
   ]
  },
  {
   "cell_type": "code",
   "execution_count": 17,
   "metadata": {},
   "outputs": [
    {
     "data": {
      "text/html": [
       "<div style=\"line-height:3;font-family:Verdana;font-size:13px\"><b>LEGEND</b>:&nbsp;&nbsp;&nbsp;&nbsp;<span style=\"border: 1px solid rgb(31, 119, 180);background-color: rgba(31, 119, 180, 0.1)\">&nbsp;year&nbsp;</span>&nbsp;&nbsp;&nbsp;&nbsp;<span style=\"border: 1px solid rgb(255, 127, 14);background-color: rgba(255, 127, 14, 0.1)\">&nbsp;name&nbsp;</span></div>"
      ],
      "text/plain": [
       "<IPython.core.display.HTML object>"
      ]
     },
     "metadata": {},
     "output_type": "display_data"
    },
    {
     "data": {
      "text/html": [
       "<div style=\"line-height: 2;font-family: Verdana; font-size: 15px; border: 1px solid grey; box-shadow: 0 0 5px rgba(0, 0, 0, 0.3), inset 0 0 50px rgba(0, 0, 0, 0.025); padding: 10px\">DEN HÆSLIGE BY.\n",
       "\n",
       "Skrig er udspændt mellem husene\n",
       "i den hæslige by\n",
       "Menneskene er skygger\n",
       "af fabrikkerne og kontorerne,\n",
       "En pige løfter sin kjole\n",
       "og hendes køn er et ur\n",
       "Fragmenter af endnu fri bevidsthed\n",
       "hænger som en tåge i luften\n",
       "kun gennemlyst af neonøjnene\n",
       "Gennem gaderne flaxer anskudte drømme\n",
       "med vinger som vimpler af visnende blade\n",
       "I byens udkant ligger sindssygehospitalet\n",
       "hvor hvide patienter udvexler diagnoser,\n",
       "smerte og medicin\n",
       "I det fjerneste rum\n",
       "ligger den bedøvede drift\n",
       "fastspændt til en stinkende våd seng\n",
       "I dansehallen midt i byen danses Dødedisco\n",
       "De midlertidige masker udleveres ved indgangen\n",
       "mod aflevering af visse hjernedele\n",
       "omfattende minder om barndom, kærlighed\n",
       "og drift mod stjerner og oprør.\n",
       "\n",
       "Vi folder drømmens faner ud (<span style=\"border: 1px solid rgb(31, 119, 180);background-color: rgba(31, 119, 180, 0.1)\">1981</span>) - <span style=\"border: 1px solid rgb(255, 127, 14);background-color: rgba(255, 127, 14, 0.1)\">Michael Strunge</span></div>"
      ],
      "text/plain": [
       "<IPython.core.display.HTML object>"
      ]
     },
     "metadata": {},
     "output_type": "display_data"
    }
   ],
   "source": [
    "display_annotations(doccano_data[3], break_lines=False)"
   ]
  },
  {
   "cell_type": "markdown",
   "metadata": {},
   "source": [
    "## `split_doc_into_sentences()`"
   ]
  },
  {
   "cell_type": "code",
   "execution_count": 18,
   "metadata": {},
   "outputs": [
    {
     "data": {
      "text/plain": [
       "[['Og', 'så', 'sky', '##der', 'han', '.'],\n",
       " ['Ne', '##j', ',', 'han', 'vente', '##r', '.'],\n",
       " ['Ja', '##aa', '##a', ',', 'Michael', 'Lau', '##dru', '##p', '.'],\n",
       " ['Det', 'er', 'geni', '##alt', ',', 'dé', '##t', 'der', '!']]"
      ]
     },
     "execution_count": 18,
     "metadata": {},
     "output_type": "execute_result"
    }
   ],
   "source": [
    "document = doccano_data[0]['text']\n",
    "split_doc_into_sentences(document, models, MAX_LEN=128)"
   ]
  },
  {
   "cell_type": "code",
   "execution_count": 19,
   "metadata": {},
   "outputs": [
    {
     "data": {
      "text/plain": [
       "[['DE', '##N', 'H', '##Æ', '##SL', '##IG', '##E', 'BY', '.'],\n",
       " ['S',\n",
       "  '##kr',\n",
       "  '##ig',\n",
       "  'er',\n",
       "  'ud',\n",
       "  '##sp',\n",
       "  '##æ',\n",
       "  '##ndt',\n",
       "  'mellem',\n",
       "  'hus',\n",
       "  '##ene',\n",
       "  'i',\n",
       "  'den',\n",
       "  'h',\n",
       "  '##æ',\n",
       "  '##sli',\n",
       "  '##ge',\n",
       "  'by',\n",
       "  'Men',\n",
       "  '##nes',\n",
       "  '##kene',\n",
       "  'er',\n",
       "  'sky',\n",
       "  '##gger',\n",
       "  'af',\n",
       "  'fa',\n",
       "  '##brik',\n",
       "  '##kern',\n",
       "  '##e',\n",
       "  'og',\n",
       "  'kon',\n",
       "  '##tore',\n",
       "  '##rne',\n",
       "  ',',\n",
       "  'En',\n",
       "  'pi',\n",
       "  '##ge',\n",
       "  'l',\n",
       "  '##ø',\n",
       "  '##fter',\n",
       "  'sin',\n",
       "  'kjo',\n",
       "  '##le',\n",
       "  'og',\n",
       "  'hendes',\n",
       "  'k',\n",
       "  '##øn',\n",
       "  'er',\n",
       "  'et',\n",
       "  'ur',\n",
       "  'Fragment',\n",
       "  '##er',\n",
       "  'af',\n",
       "  'endnu',\n",
       "  'fri',\n",
       "  'be',\n",
       "  '##vid',\n",
       "  '##st',\n",
       "  '##hed',\n",
       "  'h',\n",
       "  '##ænge',\n",
       "  '##r',\n",
       "  'som',\n",
       "  'en',\n",
       "  't',\n",
       "  '##åg',\n",
       "  '##e',\n",
       "  'i',\n",
       "  'lu',\n",
       "  '##ften',\n",
       "  'kun',\n",
       "  'gennem',\n",
       "  '##lys',\n",
       "  '##t',\n",
       "  'af',\n",
       "  'neo',\n",
       "  '##n',\n",
       "  '##øj',\n",
       "  '##nene',\n",
       "  'Gen',\n",
       "  '##nem',\n",
       "  'gade',\n",
       "  '##rne',\n",
       "  'fl',\n",
       "  '##axe',\n",
       "  '##r',\n",
       "  'ans',\n",
       "  '##kud',\n",
       "  '##te',\n",
       "  'dr',\n",
       "  '##ømme',\n",
       "  'med',\n",
       "  'vin',\n",
       "  '##ger',\n",
       "  'som',\n",
       "  'vi',\n",
       "  '##mp',\n",
       "  '##ler',\n",
       "  'af',\n",
       "  'vis',\n",
       "  '##nende',\n",
       "  'blade',\n",
       "  'I',\n",
       "  'byens',\n",
       "  'ud',\n",
       "  '##kant',\n",
       "  'ligger',\n",
       "  'sinds',\n",
       "  '##sy',\n",
       "  '##ge',\n",
       "  '##hos',\n",
       "  '##pital',\n",
       "  '##et',\n",
       "  'hvor',\n",
       "  'h',\n",
       "  '##vide',\n",
       "  'patient',\n",
       "  '##er',\n",
       "  'ud',\n",
       "  '##ve',\n",
       "  '##x',\n",
       "  '##ler',\n",
       "  'dia',\n",
       "  '##gnose',\n",
       "  '##r',\n",
       "  ',',\n",
       "  'sm',\n",
       "  '##erte'],\n",
       " ['og',\n",
       "  'med',\n",
       "  '##ici',\n",
       "  '##n',\n",
       "  'I',\n",
       "  'det',\n",
       "  'f',\n",
       "  '##jerne',\n",
       "  '##ste',\n",
       "  'rum',\n",
       "  'ligger',\n",
       "  'den',\n",
       "  'bed',\n",
       "  '##øve',\n",
       "  '##de',\n",
       "  'drift',\n",
       "  'fast',\n",
       "  '##sp',\n",
       "  '##æ',\n",
       "  '##ndt',\n",
       "  'til',\n",
       "  'en',\n",
       "  'st',\n",
       "  '##ink',\n",
       "  '##ende',\n",
       "  'v',\n",
       "  '##åd',\n",
       "  'seng',\n",
       "  'I',\n",
       "  'danse',\n",
       "  '##halle',\n",
       "  '##n',\n",
       "  'midt',\n",
       "  'i',\n",
       "  'byen',\n",
       "  'danse',\n",
       "  '##s',\n",
       "  'D',\n",
       "  '##øde',\n",
       "  '##dis',\n",
       "  '##co',\n",
       "  'De',\n",
       "  'mid',\n",
       "  '##ler',\n",
       "  '##tid',\n",
       "  '##ige',\n",
       "  'mask',\n",
       "  '##er',\n",
       "  'ud',\n",
       "  '##lever',\n",
       "  '##es',\n",
       "  'ved',\n",
       "  'ind',\n",
       "  '##gangen',\n",
       "  'mod',\n",
       "  'aflevering',\n",
       "  'af',\n",
       "  'visse',\n",
       "  'h',\n",
       "  '##jerne',\n",
       "  '##dele',\n",
       "  'omfattende',\n",
       "  'minder',\n",
       "  'om',\n",
       "  'barn',\n",
       "  '##dom',\n",
       "  ',',\n",
       "  'k',\n",
       "  '##ær',\n",
       "  '##lig',\n",
       "  '##hed',\n",
       "  'og',\n",
       "  'drift',\n",
       "  'mod',\n",
       "  'st',\n",
       "  '##jerne',\n",
       "  '##r',\n",
       "  'og',\n",
       "  'op',\n",
       "  '##rør',\n",
       "  '.'],\n",
       " ['Vi',\n",
       "  'f',\n",
       "  '##old',\n",
       "  '##er',\n",
       "  'dr',\n",
       "  '##ømme',\n",
       "  '##ns',\n",
       "  'fan',\n",
       "  '##er',\n",
       "  'ud',\n",
       "  '(',\n",
       "  '1981',\n",
       "  ')',\n",
       "  '-',\n",
       "  'Michael',\n",
       "  'St',\n",
       "  '##rung',\n",
       "  '##e']]"
      ]
     },
     "execution_count": 19,
     "metadata": {},
     "output_type": "execute_result"
    }
   ],
   "source": [
    "document = doccano_data[3]['text']\n",
    "split_doc_into_sentences(document, models, MAX_LEN=128)"
   ]
  }
 ],
 "metadata": {
  "kernelspec": {
   "display_name": "ner_doccano_utils",
   "language": "python",
   "name": "ner_doccano_utils"
  },
  "language_info": {
   "codemirror_mode": {
    "name": "ipython",
    "version": 3
   },
   "file_extension": ".py",
   "mimetype": "text/x-python",
   "name": "python",
   "nbconvert_exporter": "python",
   "pygments_lexer": "ipython3",
   "version": "3.8.3"
  }
 },
 "nbformat": 4,
 "nbformat_minor": 4
}
